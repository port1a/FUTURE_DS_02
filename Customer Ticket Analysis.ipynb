{
 "cells": [
  {
   "cell_type": "code",
   "execution_count": 87,
   "id": "f4a5956f",
   "metadata": {},
   "outputs": [],
   "source": [
    "import pandas as pd"
   ]
  },
  {
   "cell_type": "code",
   "execution_count": 88,
   "id": "cb4543f6",
   "metadata": {},
   "outputs": [
    {
     "data": {
      "text/html": [
       "<div>\n",
       "<style scoped>\n",
       "    .dataframe tbody tr th:only-of-type {\n",
       "        vertical-align: middle;\n",
       "    }\n",
       "\n",
       "    .dataframe tbody tr th {\n",
       "        vertical-align: top;\n",
       "    }\n",
       "\n",
       "    .dataframe thead th {\n",
       "        text-align: right;\n",
       "    }\n",
       "</style>\n",
       "<table border=\"1\" class=\"dataframe\">\n",
       "  <thead>\n",
       "    <tr style=\"text-align: right;\">\n",
       "      <th></th>\n",
       "      <th>Ticket ID</th>\n",
       "      <th>Customer Name</th>\n",
       "      <th>Customer Email</th>\n",
       "      <th>Customer Age</th>\n",
       "      <th>Customer Gender</th>\n",
       "      <th>Product Purchased</th>\n",
       "      <th>Date of Purchase</th>\n",
       "      <th>Ticket Type</th>\n",
       "      <th>Ticket Subject</th>\n",
       "      <th>Ticket Description</th>\n",
       "      <th>Ticket Status</th>\n",
       "      <th>Resolution</th>\n",
       "      <th>Ticket Priority</th>\n",
       "      <th>Ticket Channel</th>\n",
       "      <th>First Response Time</th>\n",
       "      <th>Time to Resolution</th>\n",
       "      <th>Customer Satisfaction Rating</th>\n",
       "    </tr>\n",
       "  </thead>\n",
       "  <tbody>\n",
       "    <tr>\n",
       "      <th>0</th>\n",
       "      <td>1</td>\n",
       "      <td>Marisa Obrien</td>\n",
       "      <td>carrollallison@example.com</td>\n",
       "      <td>32</td>\n",
       "      <td>Other</td>\n",
       "      <td>GoPro Hero</td>\n",
       "      <td>2021-03-22</td>\n",
       "      <td>Technical issue</td>\n",
       "      <td>Product setup</td>\n",
       "      <td>I'm having an issue with the {product_purchase...</td>\n",
       "      <td>Pending Customer Response</td>\n",
       "      <td>NaN</td>\n",
       "      <td>Critical</td>\n",
       "      <td>Social media</td>\n",
       "      <td>2023-06-01 12:15:36</td>\n",
       "      <td>NaN</td>\n",
       "      <td>NaN</td>\n",
       "    </tr>\n",
       "    <tr>\n",
       "      <th>1</th>\n",
       "      <td>2</td>\n",
       "      <td>Jessica Rios</td>\n",
       "      <td>clarkeashley@example.com</td>\n",
       "      <td>42</td>\n",
       "      <td>Female</td>\n",
       "      <td>LG Smart TV</td>\n",
       "      <td>2021-05-22</td>\n",
       "      <td>Technical issue</td>\n",
       "      <td>Peripheral compatibility</td>\n",
       "      <td>I'm having an issue with the {product_purchase...</td>\n",
       "      <td>Pending Customer Response</td>\n",
       "      <td>NaN</td>\n",
       "      <td>Critical</td>\n",
       "      <td>Chat</td>\n",
       "      <td>2023-06-01 16:45:38</td>\n",
       "      <td>NaN</td>\n",
       "      <td>NaN</td>\n",
       "    </tr>\n",
       "    <tr>\n",
       "      <th>2</th>\n",
       "      <td>3</td>\n",
       "      <td>Christopher Robbins</td>\n",
       "      <td>gonzalestracy@example.com</td>\n",
       "      <td>48</td>\n",
       "      <td>Other</td>\n",
       "      <td>Dell XPS</td>\n",
       "      <td>2020-07-14</td>\n",
       "      <td>Technical issue</td>\n",
       "      <td>Network problem</td>\n",
       "      <td>I'm facing a problem with my {product_purchase...</td>\n",
       "      <td>Closed</td>\n",
       "      <td>Case maybe show recently my computer follow.</td>\n",
       "      <td>Low</td>\n",
       "      <td>Social media</td>\n",
       "      <td>2023-06-01 11:14:38</td>\n",
       "      <td>2023-06-01 18:05:38</td>\n",
       "      <td>3.0</td>\n",
       "    </tr>\n",
       "    <tr>\n",
       "      <th>3</th>\n",
       "      <td>4</td>\n",
       "      <td>Christina Dillon</td>\n",
       "      <td>bradleyolson@example.org</td>\n",
       "      <td>27</td>\n",
       "      <td>Female</td>\n",
       "      <td>Microsoft Office</td>\n",
       "      <td>2020-11-13</td>\n",
       "      <td>Billing inquiry</td>\n",
       "      <td>Account access</td>\n",
       "      <td>I'm having an issue with the {product_purchase...</td>\n",
       "      <td>Closed</td>\n",
       "      <td>Try capital clearly never color toward story.</td>\n",
       "      <td>Low</td>\n",
       "      <td>Social media</td>\n",
       "      <td>2023-06-01 07:29:40</td>\n",
       "      <td>2023-06-01 01:57:40</td>\n",
       "      <td>3.0</td>\n",
       "    </tr>\n",
       "    <tr>\n",
       "      <th>4</th>\n",
       "      <td>5</td>\n",
       "      <td>Alexander Carroll</td>\n",
       "      <td>bradleymark@example.com</td>\n",
       "      <td>67</td>\n",
       "      <td>Female</td>\n",
       "      <td>Autodesk AutoCAD</td>\n",
       "      <td>2020-02-04</td>\n",
       "      <td>Billing inquiry</td>\n",
       "      <td>Data loss</td>\n",
       "      <td>I'm having an issue with the {product_purchase...</td>\n",
       "      <td>Closed</td>\n",
       "      <td>West decision evidence bit.</td>\n",
       "      <td>Low</td>\n",
       "      <td>Email</td>\n",
       "      <td>2023-06-01 00:12:42</td>\n",
       "      <td>2023-06-01 19:53:42</td>\n",
       "      <td>1.0</td>\n",
       "    </tr>\n",
       "  </tbody>\n",
       "</table>\n",
       "</div>"
      ],
      "text/plain": [
       "   Ticket ID        Customer Name              Customer Email  Customer Age  \\\n",
       "0          1        Marisa Obrien  carrollallison@example.com            32   \n",
       "1          2         Jessica Rios    clarkeashley@example.com            42   \n",
       "2          3  Christopher Robbins   gonzalestracy@example.com            48   \n",
       "3          4     Christina Dillon    bradleyolson@example.org            27   \n",
       "4          5    Alexander Carroll     bradleymark@example.com            67   \n",
       "\n",
       "  Customer Gender Product Purchased Date of Purchase      Ticket Type  \\\n",
       "0           Other        GoPro Hero       2021-03-22  Technical issue   \n",
       "1          Female       LG Smart TV       2021-05-22  Technical issue   \n",
       "2           Other          Dell XPS       2020-07-14  Technical issue   \n",
       "3          Female  Microsoft Office       2020-11-13  Billing inquiry   \n",
       "4          Female  Autodesk AutoCAD       2020-02-04  Billing inquiry   \n",
       "\n",
       "             Ticket Subject  \\\n",
       "0             Product setup   \n",
       "1  Peripheral compatibility   \n",
       "2           Network problem   \n",
       "3            Account access   \n",
       "4                 Data loss   \n",
       "\n",
       "                                  Ticket Description  \\\n",
       "0  I'm having an issue with the {product_purchase...   \n",
       "1  I'm having an issue with the {product_purchase...   \n",
       "2  I'm facing a problem with my {product_purchase...   \n",
       "3  I'm having an issue with the {product_purchase...   \n",
       "4  I'm having an issue with the {product_purchase...   \n",
       "\n",
       "               Ticket Status                                     Resolution  \\\n",
       "0  Pending Customer Response                                            NaN   \n",
       "1  Pending Customer Response                                            NaN   \n",
       "2                     Closed   Case maybe show recently my computer follow.   \n",
       "3                     Closed  Try capital clearly never color toward story.   \n",
       "4                     Closed                    West decision evidence bit.   \n",
       "\n",
       "  Ticket Priority Ticket Channel  First Response Time   Time to Resolution  \\\n",
       "0        Critical   Social media  2023-06-01 12:15:36                  NaN   \n",
       "1        Critical           Chat  2023-06-01 16:45:38                  NaN   \n",
       "2             Low   Social media  2023-06-01 11:14:38  2023-06-01 18:05:38   \n",
       "3             Low   Social media  2023-06-01 07:29:40  2023-06-01 01:57:40   \n",
       "4             Low          Email  2023-06-01 00:12:42  2023-06-01 19:53:42   \n",
       "\n",
       "   Customer Satisfaction Rating  \n",
       "0                           NaN  \n",
       "1                           NaN  \n",
       "2                           3.0  \n",
       "3                           3.0  \n",
       "4                           1.0  "
      ]
     },
     "execution_count": 88,
     "metadata": {},
     "output_type": "execute_result"
    }
   ],
   "source": [
    "df = pd.read_csv('customer_support_tickets.csv')\n",
    "df.head()"
   ]
  },
  {
   "cell_type": "code",
   "execution_count": 89,
   "id": "59511ef3",
   "metadata": {},
   "outputs": [
    {
     "data": {
      "text/plain": [
       "Ticket ID                          0\n",
       "Customer Name                      0\n",
       "Customer Email                     0\n",
       "Customer Age                       0\n",
       "Customer Gender                    0\n",
       "Product Purchased                  0\n",
       "Date of Purchase                   0\n",
       "Ticket Type                        0\n",
       "Ticket Subject                     0\n",
       "Ticket Description                 0\n",
       "Ticket Status                      0\n",
       "Resolution                      5700\n",
       "Ticket Priority                    0\n",
       "Ticket Channel                     0\n",
       "First Response Time             2819\n",
       "Time to Resolution              5700\n",
       "Customer Satisfaction Rating    5700\n",
       "dtype: int64"
      ]
     },
     "execution_count": 89,
     "metadata": {},
     "output_type": "execute_result"
    }
   ],
   "source": [
    "df.isna().sum()"
   ]
  },
  {
   "cell_type": "code",
   "execution_count": 90,
   "id": "d3c845ec",
   "metadata": {},
   "outputs": [
    {
     "name": "stdout",
     "output_type": "stream",
     "text": [
      "<class 'pandas.core.frame.DataFrame'>\n",
      "RangeIndex: 8469 entries, 0 to 8468\n",
      "Data columns (total 17 columns):\n",
      " #   Column                        Non-Null Count  Dtype  \n",
      "---  ------                        --------------  -----  \n",
      " 0   Ticket ID                     8469 non-null   int64  \n",
      " 1   Customer Name                 8469 non-null   object \n",
      " 2   Customer Email                8469 non-null   object \n",
      " 3   Customer Age                  8469 non-null   int64  \n",
      " 4   Customer Gender               8469 non-null   object \n",
      " 5   Product Purchased             8469 non-null   object \n",
      " 6   Date of Purchase              8469 non-null   object \n",
      " 7   Ticket Type                   8469 non-null   object \n",
      " 8   Ticket Subject                8469 non-null   object \n",
      " 9   Ticket Description            8469 non-null   object \n",
      " 10  Ticket Status                 8469 non-null   object \n",
      " 11  Resolution                    2769 non-null   object \n",
      " 12  Ticket Priority               8469 non-null   object \n",
      " 13  Ticket Channel                8469 non-null   object \n",
      " 14  First Response Time           5650 non-null   object \n",
      " 15  Time to Resolution            2769 non-null   object \n",
      " 16  Customer Satisfaction Rating  2769 non-null   float64\n",
      "dtypes: float64(1), int64(2), object(14)\n",
      "memory usage: 1.1+ MB\n"
     ]
    }
   ],
   "source": [
    "df.info()"
   ]
  },
  {
   "cell_type": "code",
   "execution_count": 91,
   "id": "a4b22412",
   "metadata": {},
   "outputs": [
    {
     "data": {
      "text/plain": [
       "Customer Satisfaction Rating\n",
       "3.0    580\n",
       "1.0    553\n",
       "2.0    549\n",
       "5.0    544\n",
       "4.0    543\n",
       "Name: count, dtype: int64"
      ]
     },
     "execution_count": 91,
     "metadata": {},
     "output_type": "execute_result"
    }
   ],
   "source": [
    "df['Customer Satisfaction Rating'].value_counts()"
   ]
  },
  {
   "cell_type": "markdown",
   "id": "0b89de37",
   "metadata": {},
   "source": [
    "Is there a relationship between the age and the rating?"
   ]
  },
  {
   "cell_type": "code",
   "execution_count": 92,
   "id": "984eb326",
   "metadata": {},
   "outputs": [
    {
     "data": {
      "text/plain": [
       "<Axes: xlabel='Customer Age'>"
      ]
     },
     "execution_count": 92,
     "metadata": {},
     "output_type": "execute_result"
    },
    {
     "data": {
      "image/png": "[encoded data removed]",
      "text/plain": [
       "<Figure size 640x480 with 1 Axes>"
      ]
     },
     "metadata": {},
     "output_type": "display_data"
    }
   ],
   "source": [
    "import matplotlib.pyplot as plt\n",
    "df.groupby('Customer Age')['Customer Satisfaction Rating'].mean().plot()"
   ]
  },
  {
   "cell_type": "code",
   "execution_count": 93,
   "id": "62088127",
   "metadata": {},
   "outputs": [
    {
     "data": {
      "text/plain": [
       "Ticket Priority\n",
       "Medium      2192\n",
       "Critical    2129\n",
       "High        2085\n",
       "Low         2063\n",
       "Name: count, dtype: int64"
      ]
     },
     "execution_count": 93,
     "metadata": {},
     "output_type": "execute_result"
    }
   ],
   "source": [
    "df['Ticket Priority'].value_counts()"
   ]
  },
  {
   "cell_type": "code",
   "execution_count": 94,
   "id": "209dc1c7",
   "metadata": {},
   "outputs": [
    {
     "name": "stdout",
     "output_type": "stream",
     "text": [
      "<class 'pandas.core.frame.DataFrame'>\n",
      "RangeIndex: 8469 entries, 0 to 8468\n",
      "Data columns (total 17 columns):\n",
      " #   Column                        Non-Null Count  Dtype  \n",
      "---  ------                        --------------  -----  \n",
      " 0   Ticket ID                     8469 non-null   int64  \n",
      " 1   Customer Name                 8469 non-null   object \n",
      " 2   Customer Email                8469 non-null   object \n",
      " 3   Customer Age                  8469 non-null   int64  \n",
      " 4   Customer Gender               8469 non-null   object \n",
      " 5   Product Purchased             8469 non-null   object \n",
      " 6   Date of Purchase              8469 non-null   object \n",
      " 7   Ticket Type                   8469 non-null   object \n",
      " 8   Ticket Subject                8469 non-null   object \n",
      " 9   Ticket Description            8469 non-null   object \n",
      " 10  Ticket Status                 8469 non-null   object \n",
      " 11  Resolution                    2769 non-null   object \n",
      " 12  Ticket Priority               8469 non-null   object \n",
      " 13  Ticket Channel                8469 non-null   object \n",
      " 14  First Response Time           5650 non-null   object \n",
      " 15  Time to Resolution            2769 non-null   object \n",
      " 16  Customer Satisfaction Rating  2769 non-null   float64\n",
      "dtypes: float64(1), int64(2), object(14)\n",
      "memory usage: 1.1+ MB\n"
     ]
    }
   ],
   "source": [
    "df.info()"
   ]
  },
  {
   "cell_type": "markdown",
   "id": "9d54909f",
   "metadata": {},
   "source": [
    "Is there a relationship between the gender and the rating?"
   ]
  },
  {
   "cell_type": "code",
   "execution_count": 95,
   "id": "f69c4c78",
   "metadata": {},
   "outputs": [
    {
     "data": {
      "text/plain": [
       "<Axes: ylabel='Customer Satisfaction Rating'>"
      ]
     },
     "execution_count": 95,
     "metadata": {},
     "output_type": "execute_result"
    },
    {
     "data": {
      "image/png": "[encoded data removed]",
      "text/plain": [
       "<Figure size 640x480 with 1 Axes>"
      ]
     },
     "metadata": {},
     "output_type": "display_data"
    }
   ],
   "source": [
    "import seaborn as sns\n",
    "sns.boxplot(data = df, y='Customer Satisfaction Rating', hue = 'Customer Gender')"
   ]
  },
  {
   "cell_type": "code",
   "execution_count": 96,
   "id": "6cd4045c",
   "metadata": {},
   "outputs": [
    {
     "data": {
      "text/plain": [
       "Customer Gender\n",
       "Female    2.971545\n",
       "Male      3.028384\n",
       "Other     2.974684\n",
       "Name: Customer Satisfaction Rating, dtype: float64"
      ]
     },
     "execution_count": 96,
     "metadata": {},
     "output_type": "execute_result"
    }
   ],
   "source": [
    "df.groupby('Customer Gender')['Customer Satisfaction Rating'].mean()"
   ]
  },
  {
   "cell_type": "code",
   "execution_count": 97,
   "id": "5f924ace",
   "metadata": {},
   "outputs": [
    {
     "data": {
      "text/html": [
       "<div>\n",
       "<style scoped>\n",
       "    .dataframe tbody tr th:only-of-type {\n",
       "        vertical-align: middle;\n",
       "    }\n",
       "\n",
       "    .dataframe tbody tr th {\n",
       "        vertical-align: top;\n",
       "    }\n",
       "\n",
       "    .dataframe thead th {\n",
       "        text-align: right;\n",
       "    }\n",
       "</style>\n",
       "<table border=\"1\" class=\"dataframe\">\n",
       "  <thead>\n",
       "    <tr style=\"text-align: right;\">\n",
       "      <th></th>\n",
       "      <th>First Response Time</th>\n",
       "      <th>Time to Resolution</th>\n",
       "    </tr>\n",
       "  </thead>\n",
       "  <tbody>\n",
       "    <tr>\n",
       "      <th>0</th>\n",
       "      <td>2023-06-01 12:15:36</td>\n",
       "      <td>NaN</td>\n",
       "    </tr>\n",
       "    <tr>\n",
       "      <th>1</th>\n",
       "      <td>2023-06-01 16:45:38</td>\n",
       "      <td>NaN</td>\n",
       "    </tr>\n",
       "    <tr>\n",
       "      <th>2</th>\n",
       "      <td>2023-06-01 11:14:38</td>\n",
       "      <td>2023-06-01 18:05:38</td>\n",
       "    </tr>\n",
       "    <tr>\n",
       "      <th>3</th>\n",
       "      <td>2023-06-01 07:29:40</td>\n",
       "      <td>2023-06-01 01:57:40</td>\n",
       "    </tr>\n",
       "    <tr>\n",
       "      <th>4</th>\n",
       "      <td>2023-06-01 00:12:42</td>\n",
       "      <td>2023-06-01 19:53:42</td>\n",
       "    </tr>\n",
       "    <tr>\n",
       "      <th>...</th>\n",
       "      <td>...</td>\n",
       "      <td>...</td>\n",
       "    </tr>\n",
       "    <tr>\n",
       "      <th>8464</th>\n",
       "      <td>NaN</td>\n",
       "      <td>NaN</td>\n",
       "    </tr>\n",
       "    <tr>\n",
       "      <th>8465</th>\n",
       "      <td>NaN</td>\n",
       "      <td>NaN</td>\n",
       "    </tr>\n",
       "    <tr>\n",
       "      <th>8466</th>\n",
       "      <td>2023-06-01 09:44:22</td>\n",
       "      <td>2023-06-01 04:31:22</td>\n",
       "    </tr>\n",
       "    <tr>\n",
       "      <th>8467</th>\n",
       "      <td>2023-06-01 18:28:24</td>\n",
       "      <td>2023-06-01 05:32:24</td>\n",
       "    </tr>\n",
       "    <tr>\n",
       "      <th>8468</th>\n",
       "      <td>NaN</td>\n",
       "      <td>NaN</td>\n",
       "    </tr>\n",
       "  </tbody>\n",
       "</table>\n",
       "<p>8469 rows × 2 columns</p>\n",
       "</div>"
      ],
      "text/plain": [
       "      First Response Time   Time to Resolution\n",
       "0     2023-06-01 12:15:36                  NaN\n",
       "1     2023-06-01 16:45:38                  NaN\n",
       "2     2023-06-01 11:14:38  2023-06-01 18:05:38\n",
       "3     2023-06-01 07:29:40  2023-06-01 01:57:40\n",
       "4     2023-06-01 00:12:42  2023-06-01 19:53:42\n",
       "...                   ...                  ...\n",
       "8464                  NaN                  NaN\n",
       "8465                  NaN                  NaN\n",
       "8466  2023-06-01 09:44:22  2023-06-01 04:31:22\n",
       "8467  2023-06-01 18:28:24  2023-06-01 05:32:24\n",
       "8468                  NaN                  NaN\n",
       "\n",
       "[8469 rows x 2 columns]"
      ]
     },
     "execution_count": 97,
     "metadata": {},
     "output_type": "execute_result"
    }
   ],
   "source": [
    "df[['First Response Time', 'Time to Resolution']]"
   ]
  },
  {
   "cell_type": "markdown",
   "id": "f6f090bc",
   "metadata": {},
   "source": [
    "Is there a relationship between the time it takes for a resolution to the rating?"
   ]
  },
  {
   "cell_type": "code",
   "execution_count": 162,
   "id": "079f4285",
   "metadata": {},
   "outputs": [
    {
     "data": {
      "text/html": [
       "<div>\n",
       "<style scoped>\n",
       "    .dataframe tbody tr th:only-of-type {\n",
       "        vertical-align: middle;\n",
       "    }\n",
       "\n",
       "    .dataframe tbody tr th {\n",
       "        vertical-align: top;\n",
       "    }\n",
       "\n",
       "    .dataframe thead th {\n",
       "        text-align: right;\n",
       "    }\n",
       "</style>\n",
       "<table border=\"1\" class=\"dataframe\">\n",
       "  <thead>\n",
       "    <tr style=\"text-align: right;\">\n",
       "      <th></th>\n",
       "      <th>First Response Time</th>\n",
       "      <th>Time to Resolution</th>\n",
       "    </tr>\n",
       "  </thead>\n",
       "  <tbody>\n",
       "    <tr>\n",
       "      <th>3</th>\n",
       "      <td>2023-06-01 07:29:40</td>\n",
       "      <td>2023-06-01 01:57:40</td>\n",
       "    </tr>\n",
       "    <tr>\n",
       "      <th>11</th>\n",
       "      <td>2023-06-01 12:05:51</td>\n",
       "      <td>2023-06-01 09:27:51</td>\n",
       "    </tr>\n",
       "    <tr>\n",
       "      <th>16</th>\n",
       "      <td>2023-06-01 19:46:59</td>\n",
       "      <td>2023-06-01 15:58:59</td>\n",
       "    </tr>\n",
       "    <tr>\n",
       "      <th>28</th>\n",
       "      <td>2023-05-31 23:17:17</td>\n",
       "      <td>2023-06-01 06:03:17</td>\n",
       "    </tr>\n",
       "    <tr>\n",
       "      <th>35</th>\n",
       "      <td>2023-06-01 07:56:25</td>\n",
       "      <td>2023-06-01 00:14:25</td>\n",
       "    </tr>\n",
       "    <tr>\n",
       "      <th>...</th>\n",
       "      <td>...</td>\n",
       "      <td>...</td>\n",
       "    </tr>\n",
       "    <tr>\n",
       "      <th>8452</th>\n",
       "      <td>2023-06-01 14:14:05</td>\n",
       "      <td>2023-06-01 05:47:05</td>\n",
       "    </tr>\n",
       "    <tr>\n",
       "      <th>8453</th>\n",
       "      <td>2023-06-01 12:56:06</td>\n",
       "      <td>2023-06-01 04:45:06</td>\n",
       "    </tr>\n",
       "    <tr>\n",
       "      <th>8455</th>\n",
       "      <td>2023-06-01 14:15:07</td>\n",
       "      <td>2023-06-01 06:58:07</td>\n",
       "    </tr>\n",
       "    <tr>\n",
       "      <th>8466</th>\n",
       "      <td>2023-06-01 09:44:22</td>\n",
       "      <td>2023-06-01 04:31:22</td>\n",
       "    </tr>\n",
       "    <tr>\n",
       "      <th>8467</th>\n",
       "      <td>2023-06-01 18:28:24</td>\n",
       "      <td>2023-06-01 05:32:24</td>\n",
       "    </tr>\n",
       "  </tbody>\n",
       "</table>\n",
       "<p>1172 rows × 2 columns</p>\n",
       "</div>"
      ],
      "text/plain": [
       "      First Response Time   Time to Resolution\n",
       "3     2023-06-01 07:29:40  2023-06-01 01:57:40\n",
       "11    2023-06-01 12:05:51  2023-06-01 09:27:51\n",
       "16    2023-06-01 19:46:59  2023-06-01 15:58:59\n",
       "28    2023-05-31 23:17:17  2023-06-01 06:03:17\n",
       "35    2023-06-01 07:56:25  2023-06-01 00:14:25\n",
       "...                   ...                  ...\n",
       "8452  2023-06-01 14:14:05  2023-06-01 05:47:05\n",
       "8453  2023-06-01 12:56:06  2023-06-01 04:45:06\n",
       "8455  2023-06-01 14:15:07  2023-06-01 06:58:07\n",
       "8466  2023-06-01 09:44:22  2023-06-01 04:31:22\n",
       "8467  2023-06-01 18:28:24  2023-06-01 05:32:24\n",
       "\n",
       "[1172 rows x 2 columns]"
      ]
     },
     "execution_count": 162,
     "metadata": {},
     "output_type": "execute_result"
    }
   ],
   "source": [
    "df['Resolution Time'] = pd.to_datetime(df['Time to Resolution']).dt.hour - pd.to_datetime(df['First Response Time']).dt.hour \n",
    "df[~df['Resolution Time']>0][['First Response Time', 'Time to Resolution']]"
   ]
  },
  {
   "cell_type": "markdown",
   "id": "5a3a5f21",
   "metadata": {},
   "source": [
    "could be that resolution does not equal problem solved"
   ]
  },
  {
   "cell_type": "code",
   "execution_count": 99,
   "id": "ecf67a93",
   "metadata": {},
   "outputs": [
    {
     "data": {
      "text/plain": [
       "0                                                 NaN\n",
       "1                                                 NaN\n",
       "2        Case maybe show recently my computer follow.\n",
       "3       Try capital clearly never color toward story.\n",
       "4                         West decision evidence bit.\n",
       "                            ...                      \n",
       "8464                                              NaN\n",
       "8465                                              NaN\n",
       "8466            Eight account century nature kitchen.\n",
       "8467                            We seat culture plan.\n",
       "8468                                              NaN\n",
       "Name: Resolution, Length: 8469, dtype: object"
      ]
     },
     "execution_count": 99,
     "metadata": {},
     "output_type": "execute_result"
    }
   ],
   "source": [
    "df['Resolution']"
   ]
  },
  {
   "cell_type": "code",
   "execution_count": 100,
   "id": "4dfdacbb",
   "metadata": {},
   "outputs": [
    {
     "data": {
      "text/plain": [
       "<Axes: xlabel='Customer Satisfaction Rating', ylabel='Resolution Time'>"
      ]
     },
     "execution_count": 100,
     "metadata": {},
     "output_type": "execute_result"
    },
    {
     "data": {
      "image/png": "[encoded data removed]",
      "text/plain": [
       "<Figure size 640x480 with 1 Axes>"
      ]
     },
     "metadata": {},
     "output_type": "display_data"
    }
   ],
   "source": [
    "sns.scatterplot(data = df, x = 'Customer Satisfaction Rating', y = 'Resolution Time')"
   ]
  },
  {
   "cell_type": "code",
   "execution_count": 101,
   "id": "47b7425c",
   "metadata": {},
   "outputs": [],
   "source": [
    "df.dropna(axis = 0, inplace = True)"
   ]
  },
  {
   "cell_type": "code",
   "execution_count": 102,
   "id": "134c0c85",
   "metadata": {},
   "outputs": [
    {
     "data": {
      "text/plain": [
       "array(['Dell XPS', 'Microsoft Office', 'Autodesk AutoCAD',\n",
       "       'Nintendo Switch', 'Microsoft Xbox Controller', 'Sony PlayStation',\n",
       "       'Xbox', 'Canon EOS', 'Fitbit Charge', 'GoPro Action Camera',\n",
       "       'GoPro Hero', 'Google Pixel', 'HP Pavilion',\n",
       "       'Nintendo Switch Pro Controller', 'LG Smart TV', 'Nest Thermostat',\n",
       "       'Apple AirPods', 'Sony 4K HDR TV', 'Canon DSLR Camera',\n",
       "       'Dyson Vacuum Cleaner', 'Roomba Robot Vacuum', 'PlayStation',\n",
       "       'Sony Xperia', 'Samsung Galaxy', 'Asus ROG', 'Amazon Echo',\n",
       "       'iPhone', 'Google Nest', 'Adobe Photoshop', 'LG Washing Machine',\n",
       "       'Philips Hue Lights', 'Bose SoundLink Speaker',\n",
       "       'Garmin Forerunner', 'Samsung Soundbar', 'MacBook Pro',\n",
       "       'Microsoft Surface', 'LG OLED', 'Amazon Kindle',\n",
       "       'Bose QuietComfort', 'Fitbit Versa Smartwatch', 'Lenovo ThinkPad',\n",
       "       'Nikon D'], dtype=object)"
      ]
     },
     "execution_count": 102,
     "metadata": {},
     "output_type": "execute_result"
    }
   ],
   "source": [
    "df['Product Purchased'].unique()"
   ]
  },
  {
   "cell_type": "code",
   "execution_count": 103,
   "id": "2be268a4",
   "metadata": {},
   "outputs": [
    {
     "data": {
      "text/plain": [
       "Ticket Subject\n",
       "Network problem             201\n",
       "Software bug                199\n",
       "Product compatibility       195\n",
       "Product recommendation      186\n",
       "Product setup               183\n",
       "Hardware issue              183\n",
       "Delivery problem            178\n",
       "Refund request              178\n",
       "Battery life                173\n",
       "Account access              171\n",
       "Peripheral compatibility    158\n",
       "Installation support        158\n",
       "Payment issue               156\n",
       "Display issue               155\n",
       "Cancellation request        148\n",
       "Data loss                   147\n",
       "Name: count, dtype: int64"
      ]
     },
     "execution_count": 103,
     "metadata": {},
     "output_type": "execute_result"
    }
   ],
   "source": [
    "df['Ticket Subject'].value_counts()"
   ]
  },
  {
   "cell_type": "code",
   "execution_count": 104,
   "id": "956a6594",
   "metadata": {},
   "outputs": [
    {
     "data": {
      "text/plain": [
       "Ticket Subject\n",
       "Account access              2.941520\n",
       "Battery life                2.953757\n",
       "Cancellation request        3.067568\n",
       "Data loss                   2.965986\n",
       "Delivery problem            2.803371\n",
       "Display issue               3.077419\n",
       "Hardware issue              3.000000\n",
       "Installation support        3.183544\n",
       "Network problem             2.880597\n",
       "Payment issue               3.057692\n",
       "Peripheral compatibility    2.962025\n",
       "Product compatibility       2.958974\n",
       "Product recommendation      2.967742\n",
       "Product setup               2.983607\n",
       "Refund request              3.067416\n",
       "Software bug                3.045226\n",
       "Name: Customer Satisfaction Rating, dtype: float64"
      ]
     },
     "execution_count": 104,
     "metadata": {},
     "output_type": "execute_result"
    }
   ],
   "source": [
    "df.groupby('Ticket Subject')['Customer Satisfaction Rating'].mean()"
   ]
  },
  {
   "cell_type": "code",
   "execution_count": 105,
   "id": "16cd08a4",
   "metadata": {},
   "outputs": [
    {
     "data": {
      "text/html": [
       "<div>\n",
       "<style scoped>\n",
       "    .dataframe tbody tr th:only-of-type {\n",
       "        vertical-align: middle;\n",
       "    }\n",
       "\n",
       "    .dataframe tbody tr th {\n",
       "        vertical-align: top;\n",
       "    }\n",
       "\n",
       "    .dataframe thead th {\n",
       "        text-align: right;\n",
       "    }\n",
       "</style>\n",
       "<table border=\"1\" class=\"dataframe\">\n",
       "  <thead>\n",
       "    <tr style=\"text-align: right;\">\n",
       "      <th></th>\n",
       "      <th>Ticket ID</th>\n",
       "      <th>Customer Name</th>\n",
       "      <th>Customer Email</th>\n",
       "      <th>Customer Age</th>\n",
       "      <th>Customer Gender</th>\n",
       "      <th>Product Purchased</th>\n",
       "      <th>Date of Purchase</th>\n",
       "      <th>Ticket Type</th>\n",
       "      <th>Ticket Subject</th>\n",
       "      <th>Ticket Description</th>\n",
       "      <th>Ticket Status</th>\n",
       "      <th>Resolution</th>\n",
       "      <th>Ticket Priority</th>\n",
       "      <th>Ticket Channel</th>\n",
       "      <th>First Response Time</th>\n",
       "      <th>Time to Resolution</th>\n",
       "      <th>Customer Satisfaction Rating</th>\n",
       "      <th>Resolution Time</th>\n",
       "      <th>Satisfaction Rank</th>\n",
       "    </tr>\n",
       "  </thead>\n",
       "  <tbody>\n",
       "    <tr>\n",
       "      <th>2</th>\n",
       "      <td>3</td>\n",
       "      <td>Christopher Robbins</td>\n",
       "      <td>gonzalestracy@example.com</td>\n",
       "      <td>48</td>\n",
       "      <td>Other</td>\n",
       "      <td>Dell XPS</td>\n",
       "      <td>2020-07-14</td>\n",
       "      <td>Technical issue</td>\n",
       "      <td>Network problem</td>\n",
       "      <td>I'm facing a problem with my {product_purchase...</td>\n",
       "      <td>Closed</td>\n",
       "      <td>Case maybe show recently my computer follow.</td>\n",
       "      <td>Low</td>\n",
       "      <td>Social media</td>\n",
       "      <td>2023-06-01 11:14:38</td>\n",
       "      <td>2023-06-01 18:05:38</td>\n",
       "      <td>3.0</td>\n",
       "      <td>0 days 06:51:00</td>\n",
       "      <td>average</td>\n",
       "    </tr>\n",
       "    <tr>\n",
       "      <th>3</th>\n",
       "      <td>4</td>\n",
       "      <td>Christina Dillon</td>\n",
       "      <td>bradleyolson@example.org</td>\n",
       "      <td>27</td>\n",
       "      <td>Female</td>\n",
       "      <td>Microsoft Office</td>\n",
       "      <td>2020-11-13</td>\n",
       "      <td>Billing inquiry</td>\n",
       "      <td>Account access</td>\n",
       "      <td>I'm having an issue with the {product_purchase...</td>\n",
       "      <td>Closed</td>\n",
       "      <td>Try capital clearly never color toward story.</td>\n",
       "      <td>Low</td>\n",
       "      <td>Social media</td>\n",
       "      <td>2023-06-01 07:29:40</td>\n",
       "      <td>2023-06-01 01:57:40</td>\n",
       "      <td>3.0</td>\n",
       "      <td>-1 days +18:28:00</td>\n",
       "      <td>average</td>\n",
       "    </tr>\n",
       "    <tr>\n",
       "      <th>4</th>\n",
       "      <td>5</td>\n",
       "      <td>Alexander Carroll</td>\n",
       "      <td>bradleymark@example.com</td>\n",
       "      <td>67</td>\n",
       "      <td>Female</td>\n",
       "      <td>Autodesk AutoCAD</td>\n",
       "      <td>2020-02-04</td>\n",
       "      <td>Billing inquiry</td>\n",
       "      <td>Data loss</td>\n",
       "      <td>I'm having an issue with the {product_purchase...</td>\n",
       "      <td>Closed</td>\n",
       "      <td>West decision evidence bit.</td>\n",
       "      <td>Low</td>\n",
       "      <td>Email</td>\n",
       "      <td>2023-06-01 00:12:42</td>\n",
       "      <td>2023-06-01 19:53:42</td>\n",
       "      <td>1.0</td>\n",
       "      <td>0 days 19:41:00</td>\n",
       "      <td>poor</td>\n",
       "    </tr>\n",
       "    <tr>\n",
       "      <th>10</th>\n",
       "      <td>11</td>\n",
       "      <td>Joseph Moreno</td>\n",
       "      <td>mbrown@example.org</td>\n",
       "      <td>48</td>\n",
       "      <td>Male</td>\n",
       "      <td>Nintendo Switch</td>\n",
       "      <td>2021-01-19</td>\n",
       "      <td>Cancellation request</td>\n",
       "      <td>Data loss</td>\n",
       "      <td>I'm having an issue with the {product_purchase...</td>\n",
       "      <td>Closed</td>\n",
       "      <td>Measure tonight surface feel forward.</td>\n",
       "      <td>High</td>\n",
       "      <td>Phone</td>\n",
       "      <td>2023-06-01 17:46:49</td>\n",
       "      <td>2023-05-31 23:51:49</td>\n",
       "      <td>1.0</td>\n",
       "      <td>-1 days +06:05:00</td>\n",
       "      <td>poor</td>\n",
       "    </tr>\n",
       "    <tr>\n",
       "      <th>11</th>\n",
       "      <td>12</td>\n",
       "      <td>Brandon Arnold</td>\n",
       "      <td>davisjohn@example.net</td>\n",
       "      <td>51</td>\n",
       "      <td>Male</td>\n",
       "      <td>Microsoft Xbox Controller</td>\n",
       "      <td>2021-10-24</td>\n",
       "      <td>Product inquiry</td>\n",
       "      <td>Software bug</td>\n",
       "      <td>I'm having an issue with the {product_purchase...</td>\n",
       "      <td>Closed</td>\n",
       "      <td>Measure there house management pick knowledge ...</td>\n",
       "      <td>High</td>\n",
       "      <td>Chat</td>\n",
       "      <td>2023-06-01 12:05:51</td>\n",
       "      <td>2023-06-01 09:27:51</td>\n",
       "      <td>1.0</td>\n",
       "      <td>-1 days +21:22:00</td>\n",
       "      <td>poor</td>\n",
       "    </tr>\n",
       "  </tbody>\n",
       "</table>\n",
       "</div>"
      ],
      "text/plain": [
       "    Ticket ID        Customer Name             Customer Email  Customer Age  \\\n",
       "2           3  Christopher Robbins  gonzalestracy@example.com            48   \n",
       "3           4     Christina Dillon   bradleyolson@example.org            27   \n",
       "4           5    Alexander Carroll    bradleymark@example.com            67   \n",
       "10         11        Joseph Moreno         mbrown@example.org            48   \n",
       "11         12       Brandon Arnold      davisjohn@example.net            51   \n",
       "\n",
       "   Customer Gender          Product Purchased Date of Purchase  \\\n",
       "2            Other                   Dell XPS       2020-07-14   \n",
       "3           Female           Microsoft Office       2020-11-13   \n",
       "4           Female           Autodesk AutoCAD       2020-02-04   \n",
       "10            Male            Nintendo Switch       2021-01-19   \n",
       "11            Male  Microsoft Xbox Controller       2021-10-24   \n",
       "\n",
       "             Ticket Type   Ticket Subject  \\\n",
       "2        Technical issue  Network problem   \n",
       "3        Billing inquiry   Account access   \n",
       "4        Billing inquiry        Data loss   \n",
       "10  Cancellation request        Data loss   \n",
       "11       Product inquiry     Software bug   \n",
       "\n",
       "                                   Ticket Description Ticket Status  \\\n",
       "2   I'm facing a problem with my {product_purchase...        Closed   \n",
       "3   I'm having an issue with the {product_purchase...        Closed   \n",
       "4   I'm having an issue with the {product_purchase...        Closed   \n",
       "10  I'm having an issue with the {product_purchase...        Closed   \n",
       "11  I'm having an issue with the {product_purchase...        Closed   \n",
       "\n",
       "                                           Resolution Ticket Priority  \\\n",
       "2        Case maybe show recently my computer follow.             Low   \n",
       "3       Try capital clearly never color toward story.             Low   \n",
       "4                         West decision evidence bit.             Low   \n",
       "10              Measure tonight surface feel forward.            High   \n",
       "11  Measure there house management pick knowledge ...            High   \n",
       "\n",
       "   Ticket Channel  First Response Time   Time to Resolution  \\\n",
       "2    Social media  2023-06-01 11:14:38  2023-06-01 18:05:38   \n",
       "3    Social media  2023-06-01 07:29:40  2023-06-01 01:57:40   \n",
       "4           Email  2023-06-01 00:12:42  2023-06-01 19:53:42   \n",
       "10          Phone  2023-06-01 17:46:49  2023-05-31 23:51:49   \n",
       "11           Chat  2023-06-01 12:05:51  2023-06-01 09:27:51   \n",
       "\n",
       "    Customer Satisfaction Rating   Resolution Time Satisfaction Rank  \n",
       "2                            3.0   0 days 06:51:00           average  \n",
       "3                            3.0 -1 days +18:28:00           average  \n",
       "4                            1.0   0 days 19:41:00              poor  \n",
       "10                           1.0 -1 days +06:05:00              poor  \n",
       "11                           1.0 -1 days +21:22:00              poor  "
      ]
     },
     "execution_count": 105,
     "metadata": {},
     "output_type": "execute_result"
    }
   ],
   "source": [
    "def Satisfaction_Rank(score):\n",
    "    '''\n",
    "    Assigning categories to the Satisfaction scores by customers\n",
    "    '''\n",
    "    if score < 3:\n",
    "        _rank = 'poor'\n",
    "    elif score == 3:\n",
    "        _rank = 'average'\n",
    "    else:\n",
    "        _rank = 'satisfactory'\n",
    "    return _rank\n",
    "\n",
    "\n",
    "df['Satisfaction Rank'] = df['Customer Satisfaction Rating'].apply(Satisfaction_Rank)\n",
    "    \n",
    "df.head()"
   ]
  },
  {
   "cell_type": "code",
   "execution_count": 156,
   "id": "da93af11",
   "metadata": {},
   "outputs": [
    {
     "data": {
      "text/html": [
       "<div>\n",
       "<style scoped>\n",
       "    .dataframe tbody tr th:only-of-type {\n",
       "        vertical-align: middle;\n",
       "    }\n",
       "\n",
       "    .dataframe tbody tr th {\n",
       "        vertical-align: top;\n",
       "    }\n",
       "\n",
       "    .dataframe thead th {\n",
       "        text-align: right;\n",
       "    }\n",
       "</style>\n",
       "<table border=\"1\" class=\"dataframe\">\n",
       "  <thead>\n",
       "    <tr style=\"text-align: right;\">\n",
       "      <th>Satisfaction Rank</th>\n",
       "      <th>average</th>\n",
       "      <th>poor</th>\n",
       "      <th>satisfactory</th>\n",
       "    </tr>\n",
       "  </thead>\n",
       "  <tbody>\n",
       "    <tr>\n",
       "      <th>Account access</th>\n",
       "      <td>32</td>\n",
       "      <td>74</td>\n",
       "      <td>65</td>\n",
       "    </tr>\n",
       "    <tr>\n",
       "      <th>Battery life</th>\n",
       "      <td>30</td>\n",
       "      <td>74</td>\n",
       "      <td>69</td>\n",
       "    </tr>\n",
       "    <tr>\n",
       "      <th>Cancellation request</th>\n",
       "      <td>33</td>\n",
       "      <td>55</td>\n",
       "      <td>60</td>\n",
       "    </tr>\n",
       "    <tr>\n",
       "      <th>Data loss</th>\n",
       "      <td>28</td>\n",
       "      <td>59</td>\n",
       "      <td>60</td>\n",
       "    </tr>\n",
       "    <tr>\n",
       "      <th>Delivery problem</th>\n",
       "      <td>34</td>\n",
       "      <td>86</td>\n",
       "      <td>58</td>\n",
       "    </tr>\n",
       "    <tr>\n",
       "      <th>Display issue</th>\n",
       "      <td>34</td>\n",
       "      <td>56</td>\n",
       "      <td>65</td>\n",
       "    </tr>\n",
       "    <tr>\n",
       "      <th>Hardware issue</th>\n",
       "      <td>41</td>\n",
       "      <td>71</td>\n",
       "      <td>71</td>\n",
       "    </tr>\n",
       "    <tr>\n",
       "      <th>Installation support</th>\n",
       "      <td>38</td>\n",
       "      <td>53</td>\n",
       "      <td>67</td>\n",
       "    </tr>\n",
       "    <tr>\n",
       "      <th>Network problem</th>\n",
       "      <td>37</td>\n",
       "      <td>88</td>\n",
       "      <td>76</td>\n",
       "    </tr>\n",
       "    <tr>\n",
       "      <th>Payment issue</th>\n",
       "      <td>31</td>\n",
       "      <td>60</td>\n",
       "      <td>65</td>\n",
       "    </tr>\n",
       "    <tr>\n",
       "      <th>Peripheral compatibility</th>\n",
       "      <td>45</td>\n",
       "      <td>57</td>\n",
       "      <td>56</td>\n",
       "    </tr>\n",
       "    <tr>\n",
       "      <th>Product compatibility</th>\n",
       "      <td>45</td>\n",
       "      <td>77</td>\n",
       "      <td>73</td>\n",
       "    </tr>\n",
       "    <tr>\n",
       "      <th>Product recommendation</th>\n",
       "      <td>43</td>\n",
       "      <td>73</td>\n",
       "      <td>70</td>\n",
       "    </tr>\n",
       "    <tr>\n",
       "      <th>Product setup</th>\n",
       "      <td>37</td>\n",
       "      <td>74</td>\n",
       "      <td>72</td>\n",
       "    </tr>\n",
       "    <tr>\n",
       "      <th>Refund request</th>\n",
       "      <td>36</td>\n",
       "      <td>66</td>\n",
       "      <td>76</td>\n",
       "    </tr>\n",
       "    <tr>\n",
       "      <th>Software bug</th>\n",
       "      <td>36</td>\n",
       "      <td>79</td>\n",
       "      <td>84</td>\n",
       "    </tr>\n",
       "  </tbody>\n",
       "</table>\n",
       "</div>"
      ],
      "text/plain": [
       "Satisfaction Rank         average  poor  satisfactory\n",
       "Account access                 32    74            65\n",
       "Battery life                   30    74            69\n",
       "Cancellation request           33    55            60\n",
       "Data loss                      28    59            60\n",
       "Delivery problem               34    86            58\n",
       "Display issue                  34    56            65\n",
       "Hardware issue                 41    71            71\n",
       "Installation support           38    53            67\n",
       "Network problem                37    88            76\n",
       "Payment issue                  31    60            65\n",
       "Peripheral compatibility       45    57            56\n",
       "Product compatibility          45    77            73\n",
       "Product recommendation         43    73            70\n",
       "Product setup                  37    74            72\n",
       "Refund request                 36    66            76\n",
       "Software bug                   36    79            84"
      ]
     },
     "execution_count": 156,
     "metadata": {},
     "output_type": "execute_result"
    }
   ],
   "source": [
    "pd.pivot_table(df, index = df['Ticket Subject'].values, columns = 'Satisfaction Rank', aggfunc = 'count')['Ticket Subject']"
   ]
  },
  {
   "cell_type": "code",
   "execution_count": null,
   "id": "c8e17656",
   "metadata": {},
   "outputs": [],
   "source": []
  }
 ],
 "metadata": {
  "kernelspec": {
   "display_name": "Python 3",
   "language": "python",
   "name": "python3"
  },
  "language_info": {
   "codemirror_mode": {
    "name": "ipython",
    "version": 3
   },
   "file_extension": ".py",
   "mimetype": "text/x-python",
   "name": "python",
   "nbconvert_exporter": "python",
   "pygments_lexer": "ipython3",
   "version": "3.11.4"
  }
 },
 "nbformat": 4,
 "nbformat_minor": 5
}
